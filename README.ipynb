{
 "metadata": {
  "name": ""
 },
 "nbformat": 3,
 "nbformat_minor": 0,
 "worksheets": [
  {
   "cells": [
    {
     "cell_type": "heading",
     "level": 1,
     "metadata": {},
     "source": [
      "wbpy"
     ]
    },
    {
     "cell_type": "markdown",
     "metadata": {},
     "source": [
      "A Python interface to the World Bank Indicators and Climate APIs. \n",
      "\n",
      "* [Readthedocs](http://wbpy.readthedocs.org/en/latest)\n",
      "* [Github source](https://github.com/mattduck/wbpy)\n",
      "\n",
      "* [World Bank API docs](http://data.worldbank.org/developers)\n",
      "\n",
      "The Indicators API lets you access a large number of world development indicators - country data on education, environment, gender, health, population, poverty, technology, etc.\n",
      "\n",
      "The Climate API lets you access modelled and historical data for temperature and precipitation.\n",
      "\n",
      "``This file was built from an IPython Notebook. Download README.ipynb from Github to poke around.``"
     ]
    },
    {
     "cell_type": "heading",
     "level": 2,
     "metadata": {},
     "source": [
      "Why use wbpy?"
     ]
    },
    {
     "cell_type": "markdown",
     "metadata": {},
     "source": [
      "* Removes duplicate API response metadata.\n",
      "* Separates useful numbers from metadata, so the data is more or less ready to use.\n",
      "* Works with both ISO 1366 alpha-2 and alpha-3 country codes (the API mostly just supports alpha-3). \n",
      "* Single method calls to do the equivalent of multiple API requests (eg. multiple countries and indicators in one call)."
     ]
    },
    {
     "cell_type": "heading",
     "level": 2,
     "metadata": {},
     "source": [
      "Install"
     ]
    },
    {
     "cell_type": "markdown",
     "metadata": {},
     "source": [
      "``pip install wbpy``, or build from source."
     ]
    },
    {
     "cell_type": "heading",
     "level": 1,
     "metadata": {},
     "source": [
      "Indicators API"
     ]
    },
    {
     "cell_type": "heading",
     "level": 2,
     "metadata": {},
     "source": [
      "Basic use"
     ]
    },
    {
     "cell_type": "markdown",
     "metadata": {},
     "source": [
      "Here's a small case where we already know the API codes that we want:"
     ]
    },
    {
     "cell_type": "code",
     "collapsed": false,
     "input": [
      "import wbpy\n",
      "\n",
      "api = wbpy.Indicators()\n",
      "iso_country_codes = [\"GB\", \"FR\", \"JP\"]\n",
      "api_codes = [\"SP.POP.TOTL\"] #\u00a0The code for population\n",
      "\n",
      "results = api.get_country_indicators(api_codes, iso_country_codes)"
     ],
     "language": "python",
     "metadata": {},
     "outputs": [],
     "prompt_number": 61
    },
    {
     "cell_type": "markdown",
     "metadata": {},
     "source": [
      "The ``get_country_indicators`` method removes the duplicate metadata from the JSON response, and returns a namedtuple with separate data and metadata:"
     ]
    },
    {
     "cell_type": "code",
     "collapsed": false,
     "input": [
      "results.data"
     ],
     "language": "python",
     "metadata": {},
     "outputs": [
      {
       "metadata": {},
       "output_type": "pyout",
       "prompt_number": 62,
       "text": [
        "{'SP.POP.TOTL': {'FR': {'2012': '65696689'},\n",
        "  'GB': {'2012': '63227526'},\n",
        "  'JP': {'2012': '127561489'}}}"
       ]
      }
     ],
     "prompt_number": 62
    },
    {
     "cell_type": "code",
     "collapsed": false,
     "input": [
      "results.indicators"
     ],
     "language": "python",
     "metadata": {},
     "outputs": [
      {
       "metadata": {},
       "output_type": "pyout",
       "prompt_number": 63,
       "text": [
        "{'SP.POP.TOTL': 'Population, total'}"
       ]
      }
     ],
     "prompt_number": 63
    },
    {
     "cell_type": "code",
     "collapsed": false,
     "input": [
      "results.countries"
     ],
     "language": "python",
     "metadata": {},
     "outputs": [
      {
       "metadata": {},
       "output_type": "pyout",
       "prompt_number": 64,
       "text": [
        "{'FR': 'France', 'GB': 'United Kingdom', 'JP': 'Japan'}"
       ]
      }
     ],
     "prompt_number": 64
    },
    {
     "cell_type": "markdown",
     "metadata": {},
     "source": [
      "``wbpy`` primarily supports ISO 1366 alpha-2 codes. Results are returned using alpha-2 codes, and you can query the API using alpha-2 codes. You can also query the API using alpha-3 codes (which is mostly what the API uses). \n",
      "\n",
      "There are a couple of 2-digit and 3-digit codes that the API uses that are not part of the ISO 1366 standard. These are stored on the ``nonstandard_codes`` attribute:"
     ]
    },
    {
     "cell_type": "code",
     "collapsed": false,
     "input": [
      "api.nonstandard_codes"
     ],
     "language": "python",
     "metadata": {},
     "outputs": [
      {
       "metadata": {},
       "output_type": "pyout",
       "prompt_number": 65,
       "text": [
        "{'JG': {'3-digit': 'CHI', 'name': 'Channel Islands'},\n",
        " 'KV': {'3-digit': 'KSV', 'name': 'Kosovo'}}"
       ]
      }
     ],
     "prompt_number": 65
    },
    {
     "cell_type": "heading",
     "level": 2,
     "metadata": {},
     "source": [
      "Searching the responses"
     ]
    },
    {
     "cell_type": "markdown",
     "metadata": {},
     "source": [
      "We don't always know what indicators we want to use, so we can search:"
     ]
    },
    {
     "cell_type": "code",
     "collapsed": false,
     "input": [
      "population_indicators = api.get_indicators(search=\"population\")\n",
      "len(population_indicators)"
     ],
     "language": "python",
     "metadata": {},
     "outputs": [
      {
       "metadata": {},
       "output_type": "pyout",
       "prompt_number": 66,
       "text": [
        "1179"
       ]
      }
     ],
     "prompt_number": 66
    },
    {
     "cell_type": "markdown",
     "metadata": {},
     "source": [
      "Ah. That's not a very manageable number. The API returns over 8000 indicator codes, and lots of them have \"population\" in the title. Luckily, most of those indicators don't really have much data, so we can forget about them. You can browse the indicators with the best data coverage at http://data.worldbank.org/indicator, and you can pass ``common_only=True`` to throw away all indicators that aren't included on that page:"
     ]
    },
    {
     "cell_type": "code",
     "collapsed": false,
     "input": [
      "population_indicators = api.get_indicators(search=\"population\", common_only=True)\n",
      "print \"There are now only %d indicators to browse!\" % len(population_indicators)\n"
     ],
     "language": "python",
     "metadata": {},
     "outputs": [
      {
       "output_type": "stream",
       "stream": "stdout",
       "text": [
        "There are now only 61 indicators to browse!\n"
       ]
      }
     ],
     "prompt_number": 67
    },
    {
     "cell_type": "markdown",
     "metadata": {},
     "source": [
      "We don't want to print that many results in the documentation, so let's filter some more. The API query string parameters are directly mapped to kwargs for each method. For the ``get_indicators`` method, this means we can filter by topic or source:"
     ]
    },
    {
     "cell_type": "code",
     "collapsed": false,
     "input": [
      "# \"8\" is the ID for the \"health\" topic. \n",
      "health_indicators = api.get_indicators(search=\"population\", common_only=True, topic=8)\n",
      "print \"We've narrowed it down to %d indicators!\" % len(health_indicators)"
     ],
     "language": "python",
     "metadata": {},
     "outputs": [
      {
       "output_type": "stream",
       "stream": "stdout",
       "text": [
        "We've narrowed it down to 18 indicators!\n"
       ]
      }
     ],
     "prompt_number": 68
    },
    {
     "cell_type": "markdown",
     "metadata": {},
     "source": [
      "Each indicator has a variety of metadata:"
     ]
    },
    {
     "cell_type": "code",
     "collapsed": false,
     "input": [
      "health_indicators.items()[0]"
     ],
     "language": "python",
     "metadata": {},
     "outputs": [
      {
       "metadata": {},
       "output_type": "pyout",
       "prompt_number": 69,
       "text": [
        "('SN.ITK.DEFC.ZS',\n",
        " {'name': 'Prevalence of undernourishment (% of population)',\n",
        "  'source': {'id': '2', 'value': 'World Development Indicators'},\n",
        "  'sourceNote': 'Population below minimum level of dietary energy consumption (also referred to as prevalence of undernourishment) shows the percentage of the population whose food intake is insufficient to meet dietary energy requirements continuously. Data showing as 2.5 signifies a prevalence of undernourishment below 2.5%.',\n",
        "  'sourceOrganization': 'Food and Agriculture Organization, The State of Food Insecurity in the World (http://www.fao.org/publications/sofi/food-security-indicators/en/).',\n",
        "  'topics': [{'id': '8', 'value': 'Health '}]})"
       ]
      }
     ],
     "prompt_number": 69
    },
    {
     "cell_type": "markdown",
     "metadata": {},
     "source": [
      "That data might be useful, but it's not very friendly if you just want to grab some API codes. If that's what you want, you can pass the results to the ``print_codes`` method:\n"
     ]
    },
    {
     "cell_type": "code",
     "collapsed": false,
     "input": [
      "api.print_codes(health_indicators)"
     ],
     "language": "python",
     "metadata": {},
     "outputs": [
      {
       "output_type": "stream",
       "stream": "stdout",
       "text": [
        "SH.CON.1524.FE.ZS              Condom use, population ages 15-24, female (% of females ages 15-24)\n",
        "SH.CON.1524.MA.ZS              Condom use, population ages 15-24, male (% of males ages 15-24)\n",
        "SH.DYN.AIDS.FE.ZS              Women's share of population ages 15+ living with HIV (%)\n",
        "SH.DYN.AIDS.ZS                 Prevalence of HIV, total (% of population ages 15-49)\n",
        "SH.MLR.NETS.ZS                 Use of insecticide-treated bed nets (% of under-5 population)\n",
        "SH.STA.ACSN                    Improved sanitation facilities (% of population with access)\n",
        "SH.STA.ACSN.RU                 Improved sanitation facilities, rural (% of rural population with access)\n",
        "SH.STA.ACSN.UR                 Improved sanitation facilities, urban (% of urban population with access)\n",
        "SN.ITK.DEFC.ZS                 Prevalence of undernourishment (% of population)\n",
        "SP.POP.0014.TO.ZS              Population ages 0-14 (% of total)\n",
        "SP.POP.65UP.TO.ZS              Population ages 65 and above (% of total)\n",
        "SP.POP.1564.TO.ZS              Population ages 15-64 (% of total)\n",
        "SP.POP.DPND                    Age dependency ratio (% of working-age population)\n",
        "SP.POP.DPND.OL                 Age dependency ratio, old (% of working-age population)\n",
        "SP.POP.DPND.YG                 Age dependency ratio, young (% of working-age population)\n",
        "SP.POP.GROW                    Population growth (annual %)\n",
        "SP.POP.TOTL                    Population, total\n",
        "SP.POP.TOTL.FE.ZS              Population, female (% of total)\n"
       ]
      }
     ],
     "prompt_number": 70
    },
    {
     "cell_type": "markdown",
     "metadata": {},
     "source": [
      "There are ``get_`` functions matching all API endpoints (countries, regions, sources, etc.), and the ``search`` parameter and ``print_codes`` method can be used on any of them. For example:"
     ]
    },
    {
     "cell_type": "code",
     "collapsed": false,
     "input": [
      "countries = api.get_countries(search=\"united\")\n",
      "api.print_codes(countries)"
     ],
     "language": "python",
     "metadata": {},
     "outputs": [
      {
       "output_type": "stream",
       "stream": "stdout",
       "text": [
        "AE                             United Arab Emirates\n",
        "GB                             United Kingdom\n",
        "US                             United States\n"
       ]
      }
     ],
     "prompt_number": 71
    },
    {
     "cell_type": "heading",
     "level": 2,
     "metadata": {},
     "source": [
      "API options "
     ]
    },
    {
     "cell_type": "markdown",
     "metadata": {},
     "source": [
      "All endpoint query string parameters are directly mapped to method kwargs. Different \n",
      "kwargs are available for each ``get_`` method (documented in the method's docstring).\n",
      "\n",
      "\n",
      "* **language:**     ``EN``, ``ES``, ``FR``, ``AR`` or ``ZH``. Non-English languages seem to have less info in the responses.\n",
      "\n",
      "* **date:**          String formats - ``2001``, ``2001:2006``, ``2003M01:2004M06``, ``2005Q2:2005Q4``. Replace the years with your own. Not all indicators have monthly or quarterly data.\n",
      "\n",
      "* **mrv:**           Most recent value, ie. ``mrv=3`` returns the three most recent values for an indicator.\n",
      "\n",
      "* **gapfill:**       ``Y`` or ``N``. If using an MRV value, fills missing values with the next available value (I think tracking back as far as the MRV value allows). Defaults to ``N``.\n",
      "\n",
      "* **frequency:**     Works with MRV, can specify quarterly (``Q``), monthly (``M``) or yearly (``Y``). Not all indicators have monthly and quarterly data. \n",
      "\n",
      "* **source:**        ID number to filter indicators by data source.\n",
      "\n",
      "* **topic:**         ID number to filter indicators by their assigned category. Cannot give both source and topic in the same request.\n",
      "\n",
      "* **incomelevel:**   List of 3-letter IDs to filter results by income level category.\n",
      "\n",
      "* **lendingtype:**   List of 3-letter IDs to filter results by lending type. \n",
      "\n",
      "* **region:**        List of 3-letter IDs to filter results by region.\n",
      "\n",
      "An example:"
     ]
    },
    {
     "cell_type": "code",
     "collapsed": false,
     "input": [
      "from pprint import pprint\n",
      "results = api.get_country_indicators([\"SP.POP.TOTL\", \"SP.POP.GROW\"], [\"BR\"], date=\"2004:2008\")\n",
      "pprint(results.data)\n",
      "pprint(results.indicators)\n",
      "pprint(results.countries)"
     ],
     "language": "python",
     "metadata": {},
     "outputs": [
      {
       "output_type": "stream",
       "stream": "stdout",
       "text": [
        "{'SP.POP.GROW': {'BR': {'2004': '1.23432890464563',\n",
        "                        '2005': '1.1520346395149',\n",
        "                        '2006': '1.0644160915339',\n",
        "                        '2007': '0.985200701687338',\n",
        "                        '2008': '0.926546454089764'}},\n",
        " 'SP.POP.TOTL': {'BR': {'2004': '184010283',\n",
        "                        '2005': '186142403',\n",
        "                        '2006': '188134315',\n",
        "                        '2007': '189996976',\n",
        "                        '2008': '191765567'}}}\n",
        "{'SP.POP.GROW': 'Population growth (annual %)',\n",
        " 'SP.POP.TOTL': 'Population, total'}\n",
        "{'BR': 'Brazil'}\n"
       ]
      }
     ],
     "prompt_number": 72
    },
    {
     "cell_type": "markdown",
     "metadata": {},
     "source": [
      "If no date or MRV value is given, **MRV defaults to 1**, returning the most recent\n",
      "value.\n",
      "\n",
      "Any given kwarg that is not in the above list will be directly added to the query\n",
      "string, eg. ``foo=\"bar\"`` might add ``&foo=bar`` to the URL. "
     ]
    },
    {
     "cell_type": "heading",
     "level": 2,
     "metadata": {},
     "source": [
      "Other features"
     ]
    },
    {
     "cell_type": "markdown",
     "metadata": {},
     "source": [
      "If you're not sure what to search for, just leave out the ``search`` parameter. By default, the ``get_`` methods return all API results:"
     ]
    },
    {
     "cell_type": "code",
     "collapsed": false,
     "input": [
      "all_regions = api.get_regions()\n",
      "all_sources = api.get_sources()\n",
      "\n",
      "print \"There are %d regions and %d sources.\" % (len(all_regions), len(all_sources))"
     ],
     "language": "python",
     "metadata": {},
     "outputs": [
      {
       "output_type": "stream",
       "stream": "stdout",
       "text": [
        "There are 32 regions and 28 sources.\n"
       ]
      }
     ],
     "prompt_number": 73
    },
    {
     "cell_type": "markdown",
     "metadata": {},
     "source": [
      "The ``search`` parameter actually just calls a ``search_results`` method. You can use it directly:"
     ]
    },
    {
     "cell_type": "code",
     "collapsed": false,
     "input": [
      "pprint(api.search_results(\"debt\", all_sources))"
     ],
     "language": "python",
     "metadata": {},
     "outputs": [
      {
       "output_type": "stream",
       "stream": "stdout",
       "text": [
        "{'20': {'description': '', 'name': 'Public Sector Debt', 'url': ''},\n",
        " '22': {'description': '',\n",
        "        'name': 'Quarterly External Debt Statistics (QEDS) - Special Data Dissemination Standard (SDDS)',\n",
        "        'url': ''},\n",
        " '23': {'description': '',\n",
        "        'name': 'Quarterly External Debt Statistics (QEDS) - General Data Dissemination System (GDDS)',\n",
        "        'url': ''},\n",
        " '6': {'description': '', 'name': 'International Debt Statistics', 'url': ''}}\n"
       ]
      }
     ],
     "prompt_number": 74
    },
    {
     "cell_type": "markdown",
     "metadata": {},
     "source": [
      "By default, the ``search`` parameter only searches the title of an entity (eg. a country name, or source title). If you want to search all fields, set the ``search_full`` flag to ``True``:"
     ]
    },
    {
     "cell_type": "code",
     "collapsed": false,
     "input": [
      "narrow_matches = api.get_topics(search=\"poverty\")\n",
      "wide_matches = api.get_topics(search=\"poverty\", search_full=True)\n",
      "\n",
      "print \"%d topic(s) match(es) 'poverty' in the title field, and %d topics match 'poverty' in all fields.\" % (len(narrow_matches), len(wide_matches))"
     ],
     "language": "python",
     "metadata": {},
     "outputs": [
      {
       "output_type": "stream",
       "stream": "stdout",
       "text": [
        "1 topic(s) match(es) 'poverty' in the title field, and 7 topics match 'poverty' in all fields.\n"
       ]
      }
     ],
     "prompt_number": 75
    },
    {
     "cell_type": "heading",
     "level": 1,
     "metadata": {},
     "source": [
      "Climate API"
     ]
    },
    {
     "cell_type": "markdown",
     "metadata": {},
     "source": [
      "The Climate API has multiple endpoints for useful data, but the URL structures are more complex than the Indicators API. ``wbpy`` tries to separate these into some simpler methods and arguments. "
     ]
    },
    {
     "cell_type": "heading",
     "level": 2,
     "metadata": {},
     "source": [
      "Historical data"
     ]
    },
    {
     "cell_type": "markdown",
     "metadata": {},
     "source": [
      "The ``get_temp_instrumental`` and ``get_precip_instrumental`` methods are used to get historical temperature and precipitation data. They return a namedtuple with \"data\" and \"metadata\" attributes.\n",
      "\n",
      "(For full explanation of the data and associated models, see http://data.worldbank.org/developers/climate-data-api). "
     ]
    },
    {
     "cell_type": "code",
     "collapsed": false,
     "input": [
      "c_api = wbpy.Climate()\n",
      "\n",
      "# For now, we'll assume that we already know what our location codes\n",
      "#\u00a0should be.\n",
      "iso_codes_and_basin_codes = [\"AU\", 1, 100]\n",
      "\n",
      "#\u00a0An interval can be set to \"year\", \"month\" or \"decade\". It defaults\n",
      "#\u00a0to year. \n",
      "interval = \"decade\"\n",
      "\n",
      "historical_temp = c_api.get_temp_instrumental(iso_codes_and_basin_codes, interval=interval)\n",
      "historical_precip = c_api.get_precip_instrumental(iso_codes_and_basin_codes, interval=interval)"
     ],
     "language": "python",
     "metadata": {},
     "outputs": [],
     "prompt_number": 76
    },
    {
     "cell_type": "code",
     "collapsed": false,
     "input": [
      "pprint(historical_temp.data)"
     ],
     "language": "python",
     "metadata": {},
     "outputs": [
      {
       "output_type": "stream",
       "stream": "stdout",
       "text": [
        "{1: {1960: 5.975941,\n",
        "     1970: 6.1606956,\n",
        "     1980: 6.3607564,\n",
        "     1990: 6.600332,\n",
        "     2000: 7.3054743},\n",
        " 100: {1960: 25.733957,\n",
        "       1970: 25.674582,\n",
        "       1980: 26.041042,\n",
        "       1990: 25.721668,\n",
        "       2000: 26.217083},\n",
        " u'AU': {1900: 21.078014,\n",
        "         1910: 21.296726,\n",
        "         1920: 21.158426,\n",
        "         1930: 21.245909,\n",
        "         1940: 21.04456,\n",
        "         1950: 21.136906,\n",
        "         1960: 21.263151,\n",
        "         1970: 21.306032,\n",
        "         1980: 21.633171,\n",
        "         1990: 21.727072,\n",
        "         2000: 21.741446}}\n"
       ]
      }
     ],
     "prompt_number": 77
    },
    {
     "cell_type": "code",
     "collapsed": false,
     "input": [
      "pprint(historical_temp.metadata)"
     ],
     "language": "python",
     "metadata": {},
     "outputs": [
      {
       "output_type": "stream",
       "stream": "stdout",
       "text": [
        "{'interval': 'decade', 'stat': 'Temperature, in degrees Celsisus'}\n"
       ]
      }
     ],
     "prompt_number": 78
    },
    {
     "cell_type": "heading",
     "level": 2,
     "metadata": {},
     "source": [
      "Modelled data"
     ]
    },
    {
     "cell_type": "markdown",
     "metadata": {},
     "source": [
      "``get_temp_modelled`` and ``get_precip_modelled`` return data derived from Global Climate Models: Unlike the Indicators API, the codes required to make these calls are not accessible via the Climate API itself. Instead, these have been taken from the official documentation and stored in ``api.definitions``. \n",
      "\n",
      "``data_type`` specifies the kind of aggregate data to be returned. "
     ]
    },
    {
     "cell_type": "code",
     "collapsed": false,
     "input": [
      "for item in c_api.definitions[\"type\"].items():\n",
      "    pprint(item)"
     ],
     "language": "python",
     "metadata": {},
     "outputs": [
      {
       "output_type": "stream",
       "stream": "stdout",
       "text": [
        "('manom', 'Average monthly change (anomaly).')\n",
        "('aavg', 'Annual average')\n",
        "('aanom', 'Average annual change (anomaly).')\n",
        "('mavg', 'Monthly average')\n"
       ]
      }
     ],
     "prompt_number": 79
    },
    {
     "cell_type": "markdown",
     "metadata": {},
     "source": [
      "``gcm`` specifies the Global Climate Model to use. If none given, it returns data for every model except for the \"ensemble\" values."
     ]
    },
    {
     "cell_type": "code",
     "collapsed": false,
     "input": [
      "for item in c_api.definitions[\"gcm\"].items():\n",
      "    pprint(item)"
     ],
     "language": "python",
     "metadata": {},
     "outputs": [
      {
       "output_type": "stream",
       "stream": "stdout",
       "text": [
        "('miub_echo_g', 'ECHO-G')\n",
        "('ukmo_hadcm3', 'UKMO HadCM3')\n",
        "('bccr_bcm2_0', 'BCM 2.0')\n",
        "('ukmo_hadgem1', 'UKMO HadGEM3')\n",
        "('ensemble_90', '90th percentile values of all models together')\n",
        "('cccma_cgcm3_1', 'CGCM 3.1 (T47)')\n",
        "('gfdl_cm2_1', 'GFDL CM2.1')\n",
        "('gfdl_cm2_0', 'GFDL CM2.0')\n",
        "('csiro_mk3_5', 'CSIRO Mark 3.5')\n",
        "('ensemble_50', '50th percentile values of all models together')\n",
        "('cnrm_cm3', 'CNRM CM3')\n",
        "('ensemble_10', '10th percentile values of all models together')\n",
        "('ipsl_cm4', 'IPSL-CM4')\n",
        "('mri_cgcm2_3_2a', 'MRI-CGCM2.3.2')\n",
        "('microc3_2_medres', 'MIROC 3.2 (medres)')\n",
        "('inmcm3_0', 'INMCM3.0')\n",
        "('ingv_echam4', 'ECHAM 4.6')\n",
        "('mpi_echam5', 'ECHAM5/MPI-OM')\n",
        "('ensemble', 'All percentile values of all models together')\n"
       ]
      }
     ],
     "prompt_number": 80
    },
    {
     "cell_type": "markdown",
     "metadata": {},
     "source": [
      "``sres`` specifies Special Report on Emissions Scenarios. If none given, it tries to returns data for both scenarios."
     ]
    },
    {
     "cell_type": "code",
     "collapsed": false,
     "input": [
      "for item in c_api.definitions[\"sres\"].items():\n",
      "    pprint(item)"
     ],
     "language": "python",
     "metadata": {},
     "outputs": [
      {
       "output_type": "stream",
       "stream": "stdout",
       "text": [
        "('a2', 'A2 Scenario')\n",
        "('b1', 'B1 Scenario')\n"
       ]
      }
     ],
     "prompt_number": 81
    },
    {
     "cell_type": "markdown",
     "metadata": {},
     "source": [
      "These values can be passed to the ``get_temp_modelled`` and ``get_precip_modelled`` methods:"
     ]
    },
    {
     "cell_type": "code",
     "collapsed": false,
     "input": [
      "data_type = \"aavg\"\n",
      "gcm = [\"mpi_echam5\", \"ingv_echam4\"] \n",
      "sres = \"a2\"\n",
      "\n",
      "modelled_temp = c_api.get_temp_modelled(data_type, iso_codes_and_basin_codes, gcm=gcm, sres=sres)\n",
      "modelled_precip = c_api.get_precip_modelled(data_type, iso_codes_and_basin_codes, gcm=gcm, sres=sres)"
     ],
     "language": "python",
     "metadata": {},
     "outputs": [],
     "prompt_number": 82
    },
    {
     "cell_type": "code",
     "collapsed": false,
     "input": [
      "pprint(modelled_temp.data[\"mpi_echam5\"])"
     ],
     "language": "python",
     "metadata": {},
     "outputs": [
      {
       "output_type": "stream",
       "stream": "stdout",
       "text": [
        "{1: {1920: 6.776967433902464,\n",
        "     1940: 7.032464640030124,\n",
        "     1960: 6.590775445597703,\n",
        "     1980: 6.894800653519572,\n",
        "     (2020, 'a2'): 7.857167629217703,\n",
        "     (2040, 'a2'): 8.868584437088419,\n",
        "     (2060, 'a2'): 10.72215624676723,\n",
        "     (2080, 'a2'): 11.944098668382976},\n",
        " 100: {1920: 28.0732727051,\n",
        "       1940: 28.4932556152,\n",
        "       1960: 28.073638916,\n",
        "       1980: 28.8731079102,\n",
        "       (2020, 'a2'): 28.893157959,\n",
        "       (2040, 'a2'): 29.4224853516,\n",
        "       (2060, 'a2'): 31.1801452637,\n",
        "       (2080, 'a2'): 32.4705200195},\n",
        " u'AU': {1920: 21.91360799153809,\n",
        "         1940: 22.11201510959036,\n",
        "         1960: 21.992819959853882,\n",
        "         1980: 22.632078993055373,\n",
        "         (2020, 'a2'): 23.34301744249338,\n",
        "         (2040, 'a2'): 23.795883517798035,\n",
        "         (2060, 'a2'): 25.028675808381863,\n",
        "         (2080, 'a2'): 26.40219306098183}}\n"
       ]
      }
     ],
     "prompt_number": 83
    },
    {
     "cell_type": "markdown",
     "metadata": {},
     "source": [
      "The dates are actually pairs of specific start / end years. They're saved in the metadata:"
     ]
    },
    {
     "cell_type": "code",
     "collapsed": false,
     "input": [
      "pprint(modelled_temp.metadata)"
     ],
     "language": "python",
     "metadata": {},
     "outputs": [
      {
       "output_type": "stream",
       "stream": "stdout",
       "text": [
        "{'dates': {1920: 1939,\n",
        "           1940: 1959,\n",
        "           1960: 1979,\n",
        "           1980: 1999,\n",
        "           2020: 2039,\n",
        "           2040: 2059,\n",
        "           2060: 2079,\n",
        "           2080: 2099},\n",
        " 'gcm': {'ingv_echam4': 'ECHAM 4.6', 'mpi_echam5': 'ECHAM5/MPI-OM'},\n",
        " 'sres': 'A2 Scenario',\n",
        " 'stat': 'Temperature, in degrees Celsisus',\n",
        " 'type': 'Annual average'}\n"
       ]
      }
     ],
     "prompt_number": 84
    },
    {
     "cell_type": "heading",
     "level": 2,
     "metadata": {},
     "source": [
      "Derived statistics"
     ]
    },
    {
     "cell_type": "markdown",
     "metadata": {},
     "source": [
      "You can also request statistics which are derived specifically from the \"ensemble\" ``gcm`` values. These are accessed using ``get_derived_stat``. You must specify a ``stat`` argument, which denotes the type of statistic: "
     ]
    },
    {
     "cell_type": "code",
     "collapsed": false,
     "input": [
      "for item in c_api.definitions[\"stat\"].items():\n",
      "    pprint(item)"
     ],
     "language": "python",
     "metadata": {},
     "outputs": [
      {
       "output_type": "stream",
       "stream": "stdout",
       "text": [
        "('tmax_days90th',\n",
        " \"Number of days with max temperature above the control period's 90th percentile (hot days)\")\n",
        "('tmin_means', 'Average daily minimum temperature, Celsius')\n",
        "('ppt_dryspell', 'Average number of days between precipitation events')\n",
        "('tmax_means', 'Average daily maximum temperature, Celsius')\n",
        "('ppt_days2', 'Number of days with precipitation > 2mm')\n",
        "('ppt_days90th',\n",
        " \"Number of days with precipitation > the control period's 90th percentile\")\n",
        "('tmin_days90th',\n",
        " \"Number of days with min temperature above the control period's 90th percentile (warm nights)\")\n",
        "('tmin_days0', 'Number of days with min temperature below 0 degrees Celsius')\n",
        "('ppt_days', 'Number of days with precipitation > 0.2mm')\n",
        "('tmin_days10th',\n",
        " \"Number of days with min temperature below the control period's 10th percentile (cold nights)\")\n",
        "('tmax_days10th',\n",
        " \"Number of days with max temperature below the control period's 10th percentile (cool days)\")\n",
        "('ppt_days10', 'Number of days with precipitation > 10mm')\n",
        "('ppt_means', 'Average daily precipitation')\n"
       ]
      }
     ],
     "prompt_number": 85
    },
    {
     "cell_type": "code",
     "collapsed": false,
     "input": [
      "#\u00a0For derived statistics, an ensemble GCM must be used. The arg defaults to\n",
      "# [\"ensemble\"], which gets the 10th, 50th and 90th percentile values. \n",
      "# You can request specific percentiles in the same way as the ``gcm`` argument\n",
      "# above.\n",
      "ensemble_gcm = [\"ensemble_50\", \"ensemble_90\"]\n",
      "stat = \"tmax_means\"\n",
      "\n",
      "statistic = c_api.get_derived_stat(stat, data_type, iso_codes_and_basin_codes)\n",
      "pprint(statistic.data[\"ensemble_90\"])"
     ],
     "language": "python",
     "metadata": {},
     "outputs": [
      {
       "output_type": "stream",
       "stream": "stdout",
       "text": [
        "{1: {1961: 12.082352292754566,\n",
        "     (2046, 'a2'): 14.628635992275896,\n",
        "     (2046, 'b1'): 13.925387968290336,\n",
        "     (2081, 'a2'): 16.850792013253706,\n",
        "     (2081, 'b1'): 14.787311040802052},\n",
        " 100: {1961: 33.6869010925,\n",
        "       (2046, 'a2'): 35.5453910828,\n",
        "       (2046, 'b1'): 35.2058067322,\n",
        "       (2081, 'a2'): 37.9925308228,\n",
        "       (2081, 'b1'): 36.3306732178},\n",
        " u'AU': {1961: 28.86428188323858,\n",
        "         (2046, 'a2'): 30.75957291496786,\n",
        "         (2046, 'b1'): 30.45445651584376,\n",
        "         (2081, 'a2'): 32.62275881449282,\n",
        "         (2081, 'b1'): 31.010441873332315}}\n"
       ]
      }
     ],
     "prompt_number": 86
    },
    {
     "cell_type": "heading",
     "level": 2,
     "metadata": {},
     "source": [
      "Locations"
     ]
    },
    {
     "cell_type": "markdown",
     "metadata": {},
     "source": [
      "Like the Indicators API, locations can be ISO-1366 alpha-2 or alpha-3 country codes. They can also be IDs corresponding to regional river basins. A basin map can be found in the official Climate API documentation. The API includes a KML interface that returns basin definitions, but this is currently not supported by ``wbpy``."
     ]
    },
    {
     "cell_type": "heading",
     "level": 1,
     "metadata": {},
     "source": [
      "Cache"
     ]
    },
    {
     "cell_type": "markdown",
     "metadata": {},
     "source": [
      "The default cache function uses system temporary files. You can specify your own. The function has to take a url, and return the corresponding web page as a string."
     ]
    },
    {
     "cell_type": "code",
     "collapsed": false,
     "input": [
      "def my_cache_func(url):\n",
      "    # Basic function that doesn't do any caching\n",
      "    import urllib2\n",
      "    return urllib2.urlopen(url).read()\n",
      "\n",
      "# Either pass it in on instantiation...\n",
      "ind_api = wbpy.Indicators(fetch=my_cache_func)\n",
      "\n",
      "# ...or point api.fetch to it. \n",
      "climate_api = wbpy.Climate()\n",
      "climate_api.fetch = my_cache_func"
     ],
     "language": "python",
     "metadata": {},
     "outputs": [],
     "prompt_number": 87
    }
   ],
   "metadata": {}
  }
 ]
}